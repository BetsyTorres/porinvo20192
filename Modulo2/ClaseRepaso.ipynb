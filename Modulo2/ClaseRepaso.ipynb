{
 "cells": [
  {
   "cell_type": "markdown",
   "metadata": {},
   "source": [
    "# Clase de repaso\n",
    "\n",
    "> El objetivo de esta clase es resolver una serie de ejercicios teóricos y prácticos relacionados con los contenidos de los módulos 1 y 2, en preparación para el examen.\n",
    "\n",
    "> Es válido que propongan ustedes mismos sus dudas de los temas tratados en estos módulos, o ejercicios que no hayan quedado claros de clases anteriores, tareas pasadas y/o quices.\n",
    "\n",
    "> La recomendación principal para el examen es que COMPRENDAN cada uno de los ejercicios de los quices y de las tareas. Si todo eso está claro, el examen será un simple trámite.\n",
    "___"
   ]
  },
  {
   "cell_type": "markdown",
   "metadata": {},
   "source": [
    "## 1. Ejercicios varios tipo quiz.\n",
    "\n",
    "Una parte del examen consta de ejercicios tomados de los quices realizados en los módulos 1 y 2. La diferencia con los quices, es que además de seleccionar la respuesta se debe dar una justificación de el porqué de la selección.\n",
    "\n",
    "Repasemos algunos ejercicios de los quices pasados."
   ]
  },
  {
   "cell_type": "markdown",
   "metadata": {},
   "source": [
    "**Pregunta 1.** Considere la siguiente distribución de rendimientos de los activos A, B y C:\n",
    "\n",
    "\n",
    "| Probabilidad     | Rendimiento A       | Rendimiento B         | Rendimiento C         |\n",
    "| ---------------- | ------------------  | -------------------   | ------------------    |\n",
    "| 30%              | -0.20               | -0.05                 | 0.05                  |\n",
    "| 40%              | 0.05                | 0.10                  | 0.03                  |\n",
    "| 30%              | 0.40                | 0.15                  | 0.02                  |\n",
    "\n",
    "\n",
    "¿Cuáles de las siguientes afirmaciones son correctas?\n",
    "\n",
    "A. $E[r_A] = 25.00\\%$, $E[r_B] = 20.00\\%$, $E[r_C] = 10.00\\%$.\n",
    "\n",
    "B. $E[r_A] = 8.00\\%$, $E[r_B] = 20.00\\%$, $E[r_C] = 3.30\\%$.\n",
    "\n",
    "C. $E[r_A] = 25.00\\%$, $E[r_B] = 7.00\\%$, $E[r_C] = 10.00\\%$.\n",
    "\n",
    "D. $E[r_A] = 8.00\\%$, $E[r_B] = 7.00\\%$, $E[r_C] = 3.30\\%$."
   ]
  },
  {
   "cell_type": "markdown",
   "metadata": {},
   "source": [
    "La respuesta correcta es (4%):"
   ]
  },
  {
   "cell_type": "code",
   "execution_count": null,
   "metadata": {},
   "outputs": [],
   "source": [
    "# La justificación a esta pregunta son los cálculos necesarios para llegar al resultado (4%)\n"
   ]
  },
  {
   "cell_type": "markdown",
   "metadata": {},
   "source": [
    "**Pregunta 2.** Considere la siguiente distribución de rendimientos de los activos A, B y C:\n",
    "\n",
    "\n",
    "| Probabilidad     | Rendimiento A       | Rendimiento B         | Rendimiento C         |\n",
    "| ---------------- | ------------------  | -------------------   | ------------------    |\n",
    "| 30%              | -0.20               | -0.05                 | 0.05                  |\n",
    "| 40%              | 0.05                | 0.10                  | 0.03                  |\n",
    "| 30%              | 0.40                | 0.15                  | 0.02                  |\n",
    "\n",
    "\n",
    "¿Cuáles de las siguientes afirmaciones son correctas?\n",
    "\n",
    "A. $\\sigma_A = 27.33\\%$, $\\sigma_B = 8.12\\%$, $\\sigma_C = 1.91\\%$.\n",
    "\n",
    "B. $\\sigma_A = 23.37\\%$, $\\sigma_B = 8.12\\%$, $\\sigma_C = 1.19\\%$.\n",
    "\n",
    "C. $\\sigma_A = 23.37\\%$, $\\sigma_B = 12.08\\%$, $\\sigma_C = 1.91\\%$.\n",
    "\n",
    "D. $\\sigma_A = 27.33\\%$, $\\sigma_B = 12.08\\%$, $\\sigma_C = 1.19\\%$."
   ]
  },
  {
   "cell_type": "markdown",
   "metadata": {},
   "source": [
    "La respuesta correcta es (4%):"
   ]
  },
  {
   "cell_type": "code",
   "execution_count": null,
   "metadata": {},
   "outputs": [],
   "source": [
    "# La justificación a esta pregunta son los cálculos necesarios para llegar al resultado (4%)\n"
   ]
  },
  {
   "cell_type": "markdown",
   "metadata": {},
   "source": [
    "**Pregunta 3.** Considere la siguiente distribución de rendimientos de los activos A, B y C:\n",
    "\n",
    "\n",
    "| Probabilidad     | Rendimiento A       | Rendimiento B         | Rendimiento C         |\n",
    "| ---------------- | ------------------  | -------------------   | ------------------    |\n",
    "| 30%              | -0.20               | -0.05                 | 0.05                  |\n",
    "| 40%              | 0.05                | 0.10                  | 0.03                  |\n",
    "| 30%              | 0.40                | 0.15                  | 0.02                  |\n",
    "\n",
    "\n",
    "¿Cuáles de las siguientes afirmaciones son correctas?\n",
    "\n",
    "A. $\\sigma_{AB} = 0.0174$, $\\sigma_{AC} = 0.00264$, $\\sigma_{BC} = 0.00096$.\n",
    "\n",
    "B. $\\sigma_{AB} = -0.0174$, $\\sigma_{AC} = -0.00264$, $\\sigma_{BC} = 0.00096$.\n",
    "\n",
    "C. $\\sigma_{AB} = 0.0174$, $\\sigma_{AC} = -0.00264$, $\\sigma_{BC} = -0.00096$.\n",
    "\n",
    "D. $\\sigma_{AB} = -0.0174$, $\\sigma_{AC} = 0.00264$, $\\sigma_{BC} = -0.00096$."
   ]
  },
  {
   "cell_type": "code",
   "execution_count": null,
   "metadata": {},
   "outputs": [],
   "source": [
    "# La justificación a esta pregunta son los cálculos necesarios para llegar al resultado (4%)\n"
   ]
  },
  {
   "cell_type": "markdown",
   "metadata": {},
   "source": [
    "**Pregunta 4.** Considere la siguiente distribución de rendimientos de los activos A, B y C:\n",
    "\n",
    "\n",
    "| Probabilidad     | Rendimiento A       | Rendimiento B         | Rendimiento C         |\n",
    "| ---------------- | ------------------  | -------------------   | ------------------    |\n",
    "| 30%              | -0.20               | -0.05                 | 0.05                  |\n",
    "| 40%              | 0.05                | 0.10                  | 0.03                  |\n",
    "| 30%              | 0.40                | 0.15                  | 0.02                  |\n",
    "\n",
    "\n",
    "¿Cuál es el rendimiento esperado de un portafolio formado por 20% del activo A, 30% del activo B y 50% del activo C?\n",
    "\n",
    "A. $E[r_P] = 5.53\\%$.\n",
    "\n",
    "B. $E[r_P] = 4.53\\%$.\n",
    "\n",
    "C. $E[r_P] = 3.55\\%$.\n",
    "\n",
    "D. $E[r_P] = 5.35\\%$."
   ]
  },
  {
   "cell_type": "markdown",
   "metadata": {},
   "source": [
    "La respuesta correcta es (4%):"
   ]
  },
  {
   "cell_type": "code",
   "execution_count": null,
   "metadata": {},
   "outputs": [],
   "source": [
    "# La justificación a esta pregunta son los cálculos necesarios para llegar al resultado (4%)\n"
   ]
  },
  {
   "cell_type": "code",
   "execution_count": null,
   "metadata": {},
   "outputs": [],
   "source": []
  },
  {
   "cell_type": "code",
   "execution_count": null,
   "metadata": {},
   "outputs": [],
   "source": []
  },
  {
   "cell_type": "code",
   "execution_count": null,
   "metadata": {},
   "outputs": [],
   "source": []
  },
  {
   "cell_type": "code",
   "execution_count": null,
   "metadata": {},
   "outputs": [],
   "source": []
  },
  {
   "cell_type": "markdown",
   "metadata": {},
   "source": [
    "<script>\n",
    "  $(document).ready(function(){\n",
    "    $('div.prompt').hide();\n",
    "    $('div.back-to-top').hide();\n",
    "    $('nav#menubar').hide();\n",
    "    $('.breadcrumb').hide();\n",
    "    $('.hidden-print').hide();\n",
    "  });\n",
    "</script>\n",
    "\n",
    "<footer id=\"attribution\" style=\"float:right; color:#808080; background:#fff;\">\n",
    "Created with Jupyter by Esteban Jiménez Rodríguez.\n",
    "</footer>"
   ]
  }
 ],
 "metadata": {
  "kernelspec": {
   "display_name": "Python 3",
   "language": "python",
   "name": "python3"
  },
  "language_info": {
   "codemirror_mode": {
    "name": "ipython",
    "version": 3
   },
   "file_extension": ".py",
   "mimetype": "text/x-python",
   "name": "python",
   "nbconvert_exporter": "python",
   "pygments_lexer": "ipython3",
   "version": "3.7.3"
  }
 },
 "nbformat": 4,
 "nbformat_minor": 2
}
